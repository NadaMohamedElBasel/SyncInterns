{
  "nbformat": 4,
  "nbformat_minor": 0,
  "metadata": {
    "colab": {
      "provenance": []
    },
    "kernelspec": {
      "name": "python3",
      "display_name": "Python 3"
    },
    "language_info": {
      "name": "python"
    }
  },
  "cells": [
    {
      "cell_type": "code",
      "execution_count": 8,
      "metadata": {
        "colab": {
          "base_uri": "https://localhost:8080/"
        },
        "id": "-nJGXCVeshxY",
        "outputId": "9c822946-89bd-41a0-9529-9d65a6489b48"
      },
      "outputs": [
        {
          "output_type": "stream",
          "name": "stdout",
          "text": [
            "Looking in indexes: https://pypi.org/simple, https://us-python.pkg.dev/colab-wheels/public/simple/\n",
            "Requirement already satisfied: chatterbot==1.0.4 in /usr/local/lib/python3.9/dist-packages (1.0.4)\n",
            "Requirement already satisfied: pint>=0.8.1 in /usr/local/lib/python3.9/dist-packages (from chatterbot==1.0.4) (0.20.1)\n",
            "Requirement already satisfied: sqlalchemy<1.3,>=1.2 in /usr/local/lib/python3.9/dist-packages (from chatterbot==1.0.4) (1.2.19)\n",
            "Requirement already satisfied: nltk<4.0,>=3.2 in /usr/local/lib/python3.9/dist-packages (from chatterbot==1.0.4) (3.8.1)\n",
            "Requirement already satisfied: chatterbot-corpus<1.3,>=1.2 in /usr/local/lib/python3.9/dist-packages (from chatterbot==1.0.4) (1.2.0)\n",
            "Requirement already satisfied: mathparse<0.2,>=0.1 in /usr/local/lib/python3.9/dist-packages (from chatterbot==1.0.4) (0.1.2)\n",
            "Requirement already satisfied: python-dateutil<2.8,>=2.7 in /usr/local/lib/python3.9/dist-packages (from chatterbot==1.0.4) (2.7.5)\n",
            "Requirement already satisfied: pymongo<4.0,>=3.3 in /usr/local/lib/python3.9/dist-packages (from chatterbot==1.0.4) (3.13.0)\n",
            "Requirement already satisfied: PyYAML<4.0,>=3.12 in /usr/local/lib/python3.9/dist-packages (from chatterbot-corpus<1.3,>=1.2->chatterbot==1.0.4) (3.13)\n",
            "Requirement already satisfied: tqdm in /usr/local/lib/python3.9/dist-packages (from nltk<4.0,>=3.2->chatterbot==1.0.4) (4.65.0)\n",
            "Requirement already satisfied: joblib in /usr/local/lib/python3.9/dist-packages (from nltk<4.0,>=3.2->chatterbot==1.0.4) (1.1.1)\n",
            "Requirement already satisfied: click in /usr/local/lib/python3.9/dist-packages (from nltk<4.0,>=3.2->chatterbot==1.0.4) (8.1.3)\n",
            "Requirement already satisfied: regex>=2021.8.3 in /usr/local/lib/python3.9/dist-packages (from nltk<4.0,>=3.2->chatterbot==1.0.4) (2022.10.31)\n",
            "Requirement already satisfied: six>=1.5 in /usr/local/lib/python3.9/dist-packages (from python-dateutil<2.8,>=2.7->chatterbot==1.0.4) (1.16.0)\n"
          ]
        }
      ],
      "source": [
        "pip install -U chatterbot==1.0.4"
      ]
    },
    {
      "cell_type": "code",
      "source": [
        "pip install chatterbot_corpus\n"
      ],
      "metadata": {
        "colab": {
          "base_uri": "https://localhost:8080/"
        },
        "id": "RRktah7qLVNT",
        "outputId": "865ee671-fc2c-4f34-cb9d-0f061728ebe8"
      },
      "execution_count": 9,
      "outputs": [
        {
          "output_type": "stream",
          "name": "stdout",
          "text": [
            "Looking in indexes: https://pypi.org/simple, https://us-python.pkg.dev/colab-wheels/public/simple/\n",
            "Requirement already satisfied: chatterbot_corpus in /usr/local/lib/python3.9/dist-packages (1.2.0)\n",
            "Requirement already satisfied: PyYAML<4.0,>=3.12 in /usr/local/lib/python3.9/dist-packages (from chatterbot_corpus) (3.13)\n"
          ]
        }
      ]
    },
    {
      "cell_type": "code",
      "source": [
        "from chatterbot import ChatBot\n",
        "from chatterbot.trainers import ListTrainer\n",
        "from chatterbot.trainers import ChatterBotCorpusTrainer\n",
        "chatbot=ChatBot('SyncIntern task1 bot')\n",
        "trainer = ChatterBotCorpusTrainer(chatbot)\n",
        "trainer.train(\"chatterbot.corpus.english.greetings\",\n",
        "\t\t\t\"chatterbot.corpus.english.conversations\" )\n",
        "\n",
        "\n"
      ],
      "metadata": {
        "colab": {
          "base_uri": "https://localhost:8080/"
        },
        "id": "OMxXAX-DLitb",
        "outputId": "e3fe3c15-fbc3-4a28-8e69-4dbadf00b214"
      },
      "execution_count": 49,
      "outputs": [
        {
          "output_type": "stream",
          "name": "stdout",
          "text": [
            "Training greetings.yml: [####################] 100%\n",
            "Training conversations.yml: [#################   ] 83%"
          ]
        },
        {
          "output_type": "stream",
          "name": "stderr",
          "text": [
            "[nltk_data] Downloading package averaged_perceptron_tagger to\n",
            "[nltk_data]     /root/nltk_data...\n",
            "[nltk_data]   Package averaged_perceptron_tagger is already up-to-\n",
            "[nltk_data]       date!\n",
            "[nltk_data] Downloading package punkt to /root/nltk_data...\n",
            "[nltk_data]   Package punkt is already up-to-date!\n",
            "[nltk_data] Downloading package stopwords to /root/nltk_data...\n",
            "[nltk_data]   Package stopwords is already up-to-date!\n"
          ]
        },
        {
          "output_type": "stream",
          "name": "stdout",
          "text": [
            "Training conversations.yml: [####################] 100%\n",
            "enter ok to stop\n",
            "you :hi\n",
            "SyncIntern Task1 Bot: Hello\n",
            "you :how are you\n",
            "SyncIntern Task1 Bot: I am doing well.\n",
            "you :i have a question\n",
            "SyncIntern Task1 Bot: What is your question?\n",
            "you :thank you \n",
            "SyncIntern Task1 Bot: How are you doing?\n",
            "you :do you know maths\n",
            "SyncIntern Task1 Bot: Beautiful is better than ugly.\n",
            "you :do you understand arabic\n",
            "SyncIntern Task1 Bot: That is good to hear\n",
            "you :me too\n",
            "SyncIntern Task1 Bot: Errors should never pass silently.\n",
            "you :can you go wrong\n",
            "SyncIntern Task1 Bot: Good\n",
            "you :ok\n",
            "SyncIntern Task1 Bot: bye\n"
          ]
        }
      ]
    },
    {
      "cell_type": "code",
      "source": [
        "chatbot = ChatBot(\n",
        "\t'JARVIS',\n",
        "logic_adapters=[\n",
        "\t\t'chatterbot.logic.BestMatch',\n",
        "\t\t'chatterbot.logic.TimeLogicAdapter'],\n",
        ")\n",
        "\n"
      ],
      "metadata": {
        "colab": {
          "base_uri": "https://localhost:8080/"
        },
        "id": "-uDxtcRsMUce",
        "outputId": "959f8fe4-f5d7-4baf-8b3a-0ec6b2341c10"
      },
      "execution_count": 39,
      "outputs": [
        {
          "output_type": "stream",
          "name": "stderr",
          "text": [
            "[nltk_data] Downloading package averaged_perceptron_tagger to\n",
            "[nltk_data]     /root/nltk_data...\n",
            "[nltk_data]   Package averaged_perceptron_tagger is already up-to-\n",
            "[nltk_data]       date!\n",
            "[nltk_data] Downloading package punkt to /root/nltk_data...\n",
            "[nltk_data]   Package punkt is already up-to-date!\n",
            "[nltk_data] Downloading package stopwords to /root/nltk_data...\n",
            "[nltk_data]   Package stopwords is already up-to-date!\n"
          ]
        }
      ]
    },
    {
      "cell_type": "code",
      "source": [
        "trainer = ListTrainer(chatbot)\n",
        "  \n",
        "trainer.train([\n",
        "  \n",
        "    'Hello',\n",
        "    \"Hi, there!\",\n",
        "   \"How are you doing?\",\n",
        "    \"I'm doing great.\",\n",
        "    \"That is good to hear\",\n",
        "    \"how can i help you?\",\n",
        "    \"You're welcome.\"\n",
        "    'I need roadmap for Competitive Programming',\n",
        "    'depends on your level',\n",
        "    'I have a query.',\n",
        "    'what is it',\n",
        "    'How long it will take to become expert in Coding ?',\n",
        "    'It usually depends on the amount of practice.',\n",
        "    'Thanks',\n",
        "    'No Problem! Have a Good Day!'\n",
        "])\n",
        "print(\"enter ok to stop\")\n",
        "while True:\n",
        "    request=input('you :')\n",
        "    if request == 'OK' or request == 'ok':\n",
        "        print('SyncIntern Task1 Bot: bye')\n",
        "        break\n",
        "    else:\n",
        "        response=chatbot.get_response(request)\n",
        "        print('SyncIntern Task1 Bot:', response)"
      ],
      "metadata": {
        "colab": {
          "base_uri": "https://localhost:8080/"
        },
        "id": "L2LXnpEwNjKJ",
        "outputId": "7f91260a-d690-4101-e5bb-d8371d860e6c"
      },
      "execution_count": 51,
      "outputs": [
        {
          "output_type": "stream",
          "name": "stdout",
          "text": [
            "List Trainer: [####################] 100%\n",
            "enter ok to stop\n",
            "you :hi\n",
            "SyncIntern Task1 Bot: Hello\n",
            "you :how are you\n",
            "SyncIntern Task1 Bot: I am doing well.\n",
            "you :i have a question\n",
            "SyncIntern Task1 Bot: What is your question?\n",
            "you :thanks\n",
            "SyncIntern Task1 Bot: No Problem! Have a Good Day!\n",
            "you :ok\n",
            "SyncIntern Task1 Bot: bye\n"
          ]
        }
      ]
    }
  ]
}